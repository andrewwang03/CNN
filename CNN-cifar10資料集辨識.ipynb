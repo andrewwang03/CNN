{
 "cells": [
  {
   "cell_type": "code",
   "execution_count": 11,
   "id": "87b5c824",
   "metadata": {},
   "outputs": [],
   "source": [
    "import numpy as np\n",
    "from keras.datasets import mnist\n",
    "from keras.utils import to_categorical\n",
    "\n",
    "np.random.seed(7)\n",
    "#載入資料集\n",
    "(X_train,Y_train),(X_test,Y_test)=mnist.load_data()\n"
   ]
  },
  {
   "cell_type": "code",
   "execution_count": 12,
   "id": "8da36a4d",
   "metadata": {},
   "outputs": [
    {
     "name": "stdout",
     "output_type": "stream",
     "text": [
      "(60000, 28, 28)\n"
     ]
    }
   ],
   "source": [
    "print(X_train.shape)"
   ]
  },
  {
   "cell_type": "code",
   "execution_count": 13,
   "id": "6997a3e4",
   "metadata": {},
   "outputs": [
    {
     "name": "stdout",
     "output_type": "stream",
     "text": [
      "(60000, 28, 28, 1)\n"
     ]
    }
   ],
   "source": [
    "#將圖片轉成 4D 張量\n",
    "X_train=X_train.reshape(X_train.shape[0],28,28,1).astype(\"float32\")\n",
    "X_test=X_test.reshape(X_test.shape[0],28,28,1).astype(\"float32\")\n",
    "print(X_train.shape)"
   ]
  },
  {
   "cell_type": "code",
   "execution_count": 14,
   "id": "76d370d1",
   "metadata": {},
   "outputs": [
    {
     "name": "stdout",
     "output_type": "stream",
     "text": [
      "[0. 0. 0. 0. 0. 1. 0. 0. 0. 0.] [0. 0. 0. 0. 0. 0. 0. 1. 0. 0.]\n"
     ]
    }
   ],
   "source": [
    "# 因為是固定範圍，所以執行正規化，從0~255到0~1\n",
    "X_train=X_train/255\n",
    "X_test=X_test/255\n",
    "# One-hot編碼\n",
    "Y_train=to_categorical(Y_train)\n",
    "Y_test=to_categorical(Y_test)\n",
    "print(Y_train[0],Y_test[0])"
   ]
  },
  {
   "cell_type": "code",
   "execution_count": 15,
   "id": "c6573b87",
   "metadata": {},
   "outputs": [
    {
     "name": "stdout",
     "output_type": "stream",
     "text": [
      "Model: \"sequential_8\"\n",
      "_________________________________________________________________\n",
      "Layer (type)                 Output Shape              Param #   \n",
      "=================================================================\n",
      "conv2d_4 (Conv2D)            (None, 28, 28, 16)        416       \n",
      "_________________________________________________________________\n",
      "max_pooling2d_3 (MaxPooling2 (None, 14, 14, 16)        0         \n",
      "_________________________________________________________________\n",
      "conv2d_5 (Conv2D)            (None, 14, 14, 32)        12832     \n",
      "_________________________________________________________________\n",
      "max_pooling2d_4 (MaxPooling2 (None, 7, 7, 32)          0         \n",
      "_________________________________________________________________\n",
      "dropout_3 (Dropout)          (None, 7, 7, 32)          0         \n",
      "_________________________________________________________________\n",
      "flatten_2 (Flatten)          (None, 1568)              0         \n",
      "_________________________________________________________________\n",
      "dense_3 (Dense)              (None, 128)               200832    \n",
      "_________________________________________________________________\n",
      "dropout_4 (Dropout)          (None, 128)               0         \n",
      "_________________________________________________________________\n",
      "dense_4 (Dense)              (None, 10)                1290      \n",
      "=================================================================\n",
      "Total params: 215,370\n",
      "Trainable params: 215,370\n",
      "Non-trainable params: 0\n",
      "_________________________________________________________________\n"
     ]
    }
   ],
   "source": [
    "from keras.models import Sequential\n",
    "from keras.layers import Dense\n",
    "from keras.layers import Flatten\n",
    "from keras.layers import Conv2D\n",
    "from keras.layers import MaxPooling2D\n",
    "from keras.layers import Dropout\n",
    "\n",
    "# 定義模型\n",
    "model=Sequential()\n",
    "\n",
    "# 定義第1組的卷積和池化層\n",
    "model.add(Conv2D(16, kernel_size=(5,5),padding=\"same\",\n",
    "                input_shape=(28,28,1),activation=\"relu\"))\n",
    "model.add(MaxPooling2D(pool_size=(2,2)))\n",
    "\n",
    "# 定義第2組的卷積和池化層\n",
    "model.add(Conv2D(32, kernel_size=(5,5),padding=\"same\",\n",
    "                input_shape=(28,28,1),activation=\"relu\"))\n",
    "model.add(MaxPooling2D(pool_size=(2,2)))\n",
    "\n",
    "# 定義Dropout、平坦層和全連接層\n",
    "model.add(Dropout(0.5))\n",
    "model.add(Flatten())\n",
    "model.add(Dense(128,activation=\"relu\"))\n",
    "model.add(Dropout(0.5))\n",
    "model.add(Dense(10,activation=\"softmax\"))\n",
    "model.summary() # 顯示模型摘要資訊\n"
   ]
  },
  {
   "cell_type": "code",
   "execution_count": 16,
   "id": "16e91365",
   "metadata": {},
   "outputs": [
    {
     "name": "stdout",
     "output_type": "stream",
     "text": [
      "Train on 48000 samples, validate on 12000 samples\n",
      "Epoch 1/10\n",
      " - 35s - loss: 0.3893 - accuracy: 0.8779 - val_loss: 0.0774 - val_accuracy: 0.9767\n",
      "Epoch 2/10\n",
      " - 33s - loss: 0.1229 - accuracy: 0.9630 - val_loss: 0.0521 - val_accuracy: 0.9839\n",
      "Epoch 3/10\n",
      " - 33s - loss: 0.0933 - accuracy: 0.9721 - val_loss: 0.0468 - val_accuracy: 0.9856\n",
      "Epoch 4/10\n",
      " - 34s - loss: 0.0800 - accuracy: 0.9762 - val_loss: 0.0425 - val_accuracy: 0.9883\n",
      "Epoch 5/10\n",
      " - 41s - loss: 0.0706 - accuracy: 0.9790 - val_loss: 0.0370 - val_accuracy: 0.9889\n",
      "Epoch 6/10\n",
      " - 36s - loss: 0.0644 - accuracy: 0.9798 - val_loss: 0.0338 - val_accuracy: 0.9893\n",
      "Epoch 7/10\n",
      " - 34s - loss: 0.0586 - accuracy: 0.9820 - val_loss: 0.0324 - val_accuracy: 0.9903\n",
      "Epoch 8/10\n",
      " - 41s - loss: 0.0535 - accuracy: 0.9833 - val_loss: 0.0311 - val_accuracy: 0.9912\n",
      "Epoch 9/10\n",
      " - 36s - loss: 0.0506 - accuracy: 0.9840 - val_loss: 0.0317 - val_accuracy: 0.9908\n",
      "Epoch 10/10\n",
      " - 37s - loss: 0.0483 - accuracy: 0.9847 - val_loss: 0.0351 - val_accuracy: 0.9901\n",
      "\n",
      "Testing...\n",
      "60000/60000 [==============================] - 12s 194us/step\n",
      "訓練資料集的準確度=0.99\n",
      "10000/10000 [==============================] - 2s 229us/step\n",
      "測試資料集的準確度=0.99\n"
     ]
    }
   ],
   "source": [
    "#編譯模型\n",
    "model.compile(loss=\"categorical_crossentropy\",optimizer=\"adam\",\n",
    "             metrics=[\"accuracy\"])\n",
    "#訓練模型\n",
    "history=model.fit(X_train,Y_train,validation_split=0.2,\n",
    "                 epochs=10,batch_size=128,verbose=2)\n",
    "# epochs=10==>訓練資料10次\n",
    "# batch_size=128==>一次抓128筆資料去做運算跟誤差修正，設太大訓練會不夠\n",
    "# verbose=2==>為每個epochs輸出一行紀錄\n",
    "# verbose=1==>顯示進度條\n",
    "# verbose=0==>在控制台沒有任何輸出\n",
    "# verbase=False==>不顯示訊息\n",
    "#評估模型\n",
    "print(\"\\nTesting...\")\n",
    "loss,accuracy=model.evaluate(X_train,Y_train)\n",
    "print(\"訓練資料集的準確度={:.2f}\".format(accuracy))\n",
    "loss,accuracy=model.evaluate(X_test,Y_test)\n",
    "print(\"測試資料集的準確度={:.2f}\".format(accuracy))"
   ]
  },
  {
   "cell_type": "code",
   "execution_count": 17,
   "id": "f7557763",
   "metadata": {},
   "outputs": [
    {
     "name": "stdout",
     "output_type": "stream",
     "text": [
      "Saving Model: mnist.h5...\n"
     ]
    }
   ],
   "source": [
    "# 儲存keras模型\n",
    "print(\"Saving Model: mnist.h5...\")\n",
    "model.save(\"./data/mnist.h5\")"
   ]
  },
  {
   "cell_type": "code",
   "execution_count": 18,
   "id": "56550bc4",
   "metadata": {},
   "outputs": [
    {
     "data": {
      "image/png": "[encoded data removed]",
      "text/plain": [
       "<Figure size 432x288 with 1 Axes>"
      ]
     },
     "metadata": {
      "needs_background": "light"
     },
     "output_type": "display_data"
    }
   ],
   "source": [
    "# 顯示圖表來分析模型的訓練過程\n",
    "import matplotlib.pyplot as plt\n",
    "# 顯示訓練和驗證損失\n",
    "loss=history.history[\"loss\"]\n",
    "epochs=range(1,len(loss)+1)\n",
    "val_loss=history.history[\"val_loss\"]\n",
    "plt.plot(epochs,loss,\"bo-\",label=\"Training Loss\")\n",
    "plt.plot(epochs,val_loss,\"ro--\",label=\"Validation Loss\")\n",
    "plt.title(\"Training vs. Validation Loss\")\n",
    "plt.xlabel(\"Epochs\")\n",
    "plt.ylabel(\"Loss\")\n",
    "plt.legend()\n",
    "plt.show()"
   ]
  },
  {
   "cell_type": "code",
   "execution_count": 19,
   "id": "e7febc1a",
   "metadata": {},
   "outputs": [
    {
     "data": {
      "image/png": "[encoded data removed]",
      "text/plain": [
       "<Figure size 432x288 with 1 Axes>"
      ]
     },
     "metadata": {
      "needs_background": "light"
     },
     "output_type": "display_data"
    }
   ],
   "source": [
    "# 顯示訓練和驗證準確度\n",
    "import matplotlib.pyplot as plt\n",
    "acc=history.history[\"accuracy\"]\n",
    "epochs=range(1,len(acc)+1)\n",
    "val_acc=history.history[\"val_accuracy\"]\n",
    "plt.plot(epochs,acc,\"bo-\",label=\"Training Acc\")\n",
    "plt.plot(epochs,val_acc,\"ro--\",label=\"Validation Acc\")\n",
    "plt.title(\"Training vs. Validation Accuracy\")\n",
    "plt.xlabel(\"Epochs\")\n",
    "plt.ylabel(\"Accuracy\")\n",
    "plt.legend()\n",
    "plt.show()"
   ]
  },
  {
   "cell_type": "code",
   "execution_count": 2,
   "id": "04d062ab",
   "metadata": {},
   "outputs": [],
   "source": [
    "import numpy as np\n",
    "import pandas as pd\n",
    "from keras.datasets import mnist\n",
    "from keras.utils import to_categorical\n",
    "from keras.models import Sequential\n",
    "from keras.models import load_model\n",
    "\n",
    "seed=7\n",
    "np.random.seed(seed)\n",
    "(X_train,Y_train),(X_test,Y_test)=mnist.load_data()\n",
    "X_test=X_test.reshape(X_test.shape[0],28,28,1).astype(\"float32\")\n",
    "X_test=X_test/255\n",
    "# One-hot編碼\n",
    "Y_test_bk=Y_test.copy() # 備份Y_test資料集\n",
    "Y_test=to_categorical(Y_test)"
   ]
  },
  {
   "cell_type": "code",
   "execution_count": 3,
   "id": "8d604a02",
   "metadata": {},
   "outputs": [
    {
     "name": "stdout",
     "output_type": "stream",
     "text": [
      "Testing...\n",
      "10000/10000 [==============================] - 1s 122us/step\n",
      "測試資料集的準確度=0.99\n",
      "\n",
      "Predicting...\n",
      "predict    0     1     2     3    4    5    6     7    8    9\n",
      "label                                                        \n",
      "0        977     0     0     0    0    0    1     1    1    0\n",
      "1          0  1133     1     1    0    0    0     0    0    0\n",
      "2          1     0  1030     0    0    0    0     1    0    0\n",
      "3          0     0     1  1004    0    2    0     2    1    0\n",
      "4          0     0     0     0  981    0    0     0    0    1\n",
      "5          1     0     0     3    0  883    2     1    0    2\n",
      "6          6     2     0     0    1    0  948     0    1    0\n",
      "7          0     2     6     0    0    0    0  1018    1    1\n",
      "8          2     1     1     1    0    2    0     2  964    1\n",
      "9          1     4     2     0    9    3    0     7    0  983\n"
     ]
    }
   ],
   "source": [
    "from keras.models import Sequential\n",
    "from keras.layers import Dense\n",
    "from keras.layers import Flatten\n",
    "from keras.layers import Conv2D\n",
    "from keras.layers import MaxPooling2D\n",
    "from keras.layers import Dropout\n",
    "model=Sequential()\n",
    "model=load_model(\"./data/mnist.h5\")\n",
    "#編譯模型\n",
    "model.compile(loss=\"categorical_crossentropy\",optimizer=\"adam\",\n",
    "             metrics=[\"accuracy\"])\n",
    "#評估模型\n",
    "print(\"Testing...\")\n",
    "loss,accuracy=model.evaluate(X_test,Y_test)\n",
    "print(\"測試資料集的準確度={:.2f}\".format(accuracy))\n",
    "# 計算分類的預測值\n",
    "print(\"\\nPredicting...\")\n",
    "Y_pred=model.predict_classes(X_test)\n",
    "# 顯示混淆矩陣\n",
    "tb=pd.crosstab(Y_test_bk.astype(int),Y_pred.astype(int),\n",
    "              rownames=[\"label\"],colnames=[\"predict\"])\n",
    "print(tb)"
   ]
  },
  {
   "cell_type": "code",
   "execution_count": 7,
   "id": "a1122133",
   "metadata": {},
   "outputs": [
    {
     "name": "stdout",
     "output_type": "stream",
     "text": [
      "Downloading data from https://www.cs.toronto.edu/~kriz/cifar-10-python.tar.gz\n",
      "170500096/170498071 [==============================] - 21s 0us/step\n",
      "(50000, 32, 32, 3)\n",
      "(50000, 1)\n",
      "(10000, 32, 32, 3)\n",
      "(10000, 1)\n"
     ]
    }
   ],
   "source": [
    "from keras.datasets import cifar10\n",
    "(X_train,Y_train),(X_test,Y_test)=cifar10.load_data()\n",
    "#形狀\n",
    "print(X_train.shape)\n",
    "print(Y_train.shape)\n",
    "print(X_test.shape)\n",
    "print(Y_test.shape)"
   ]
  },
  {
   "cell_type": "code",
   "execution_count": 9,
   "id": "54f2ebc1",
   "metadata": {},
   "outputs": [
    {
     "data": {
      "image/png": "[encoded data removed]",
      "text/plain": [
       "<Figure size 432x288 with 1 Axes>"
      ]
     },
     "metadata": {
      "needs_background": "light"
     },
     "output_type": "display_data"
    }
   ],
   "source": [
    "import matplotlib.pyplot as plt\n",
    "%matplotlib inline\n",
    "\n",
    "plt.imshow(X_train[49999],cmap=\"binary\")\n",
    "plt.title(\"Label: \"+str(Y_train[49999]))\n",
    "plt.axis(\"off\")\n",
    "plt.show()"
   ]
  },
  {
   "cell_type": "code",
   "execution_count": 7,
   "id": "f5f0ff7d",
   "metadata": {},
   "outputs": [
    {
     "name": "stdout",
     "output_type": "stream",
     "text": [
      "(50000, 32, 32, 3)\n"
     ]
    }
   ],
   "source": [
    "import numpy as np\n",
    "from keras.datasets import cifar10\n",
    "from keras.models import Sequential\n",
    "from keras.layers import Dense\n",
    "from keras.layers import Flatten\n",
    "from keras.layers import Conv2D\n",
    "from keras.layers import MaxPooling2D\n",
    "from keras.layers import Dropout\n",
    "from keras.utils import to_categorical\n",
    "\n",
    "seed=10\n",
    "np.random.seed(seed)\n",
    "\n",
    "(X_train,Y_train),(X_test,Y_test)=cifar10.load_data()\n",
    "\n",
    "X_train=X_train.astype(\"float32\")/255\n",
    "X_test=X_test.astype(\"float32\")/255\n",
    "Y_train=to_categorical(Y_train)\n",
    "Y_test=to_categorical(Y_test)\n",
    "\n",
    "print(X_train.shape)"
   ]
  },
  {
   "cell_type": "code",
   "execution_count": 8,
   "id": "fb1c9d23",
   "metadata": {},
   "outputs": [
    {
     "name": "stdout",
     "output_type": "stream",
     "text": [
      "Model: \"sequential_4\"\n",
      "_________________________________________________________________\n",
      "Layer (type)                 Output Shape              Param #   \n",
      "=================================================================\n",
      "conv2d_2 (Conv2D)            (None, 32, 32, 32)        896       \n",
      "_________________________________________________________________\n",
      "max_pooling2d_1 (MaxPooling2 (None, 16, 16, 32)        0         \n",
      "_________________________________________________________________\n",
      "dropout_1 (Dropout)          (None, 16, 16, 32)        0         \n",
      "_________________________________________________________________\n",
      "conv2d_3 (Conv2D)            (None, 16, 16, 64)        18496     \n",
      "_________________________________________________________________\n",
      "max_pooling2d_2 (MaxPooling2 (None, 8, 8, 64)          0         \n",
      "_________________________________________________________________\n",
      "dropout_2 (Dropout)          (None, 8, 8, 64)          0         \n",
      "_________________________________________________________________\n",
      "flatten_1 (Flatten)          (None, 4096)              0         \n",
      "_________________________________________________________________\n",
      "dense_1 (Dense)              (None, 512)               2097664   \n",
      "_________________________________________________________________\n",
      "dropout_3 (Dropout)          (None, 512)               0         \n",
      "_________________________________________________________________\n",
      "dense_2 (Dense)              (None, 10)                5130      \n",
      "=================================================================\n",
      "Total params: 2,122,186\n",
      "Trainable params: 2,122,186\n",
      "Non-trainable params: 0\n",
      "_________________________________________________________________\n"
     ]
    }
   ],
   "source": [
    "model=Sequential()\n",
    "\n",
    "# 定義第1組的卷積和池化層\n",
    "model.add(Conv2D(32, kernel_size=(3,3),padding=\"same\",\n",
    "                input_shape=X_train.shape[1:],activation=\"relu\"))\n",
    "model.add(MaxPooling2D(pool_size=(2,2)))\n",
    "model.add(Dropout(0.25))\n",
    "model.add(Conv2D(64, kernel_size=(3,3),padding=\"same\",\n",
    "                activation=\"relu\"))\n",
    "model.add(MaxPooling2D(pool_size=(2,2)))\n",
    "model.add(Dropout(0.25))\n",
    "model.add(Flatten())\n",
    "model.add(Dense(512,activation=\"relu\"))\n",
    "model.add(Dropout(0.5))\n",
    "model.add(Dense(10,activation=\"softmax\"))\n",
    "model.summary()"
   ]
  },
  {
   "cell_type": "code",
   "execution_count": 9,
   "id": "aad14d5e",
   "metadata": {},
   "outputs": [
    {
     "name": "stdout",
     "output_type": "stream",
     "text": [
      "Train on 40000 samples, validate on 10000 samples\n",
      "Epoch 1/5\n",
      " - 44s - loss: 1.6857 - accuracy: 0.3829 - val_loss: 1.3433 - val_accuracy: 0.5237\n",
      "Epoch 2/5\n",
      " - 52s - loss: 1.3061 - accuracy: 0.5326 - val_loss: 1.1441 - val_accuracy: 0.6077\n",
      "Epoch 3/5\n",
      " - 43s - loss: 1.1625 - accuracy: 0.5854 - val_loss: 1.0402 - val_accuracy: 0.6428\n",
      "Epoch 4/5\n",
      " - 41s - loss: 1.0774 - accuracy: 0.6200 - val_loss: 0.9831 - val_accuracy: 0.6643\n",
      "Epoch 5/5\n",
      " - 41s - loss: 0.9984 - accuracy: 0.6459 - val_loss: 0.9673 - val_accuracy: 0.6659\n"
     ]
    }
   ],
   "source": [
    "model.compile(loss=\"categorical_crossentropy\",optimizer=\"adam\",\n",
    "             metrics=[\"accuracy\"])\n",
    "#訓練模型\n",
    "history=model.fit(X_train,Y_train,validation_split=0.2,\n",
    "                 epochs=5,batch_size=128,verbose=2)"
   ]
  },
  {
   "cell_type": "code",
   "execution_count": 16,
   "id": "eefda7ce",
   "metadata": {},
   "outputs": [
    {
     "name": "stdout",
     "output_type": "stream",
     "text": [
      "Saving Model: cifar10.h5...\n"
     ]
    }
   ],
   "source": [
    "print(\"Saving Model: cifar10.h5...\")\n",
    "model.save(\"./data/cifar10.h5\")"
   ]
  },
  {
   "cell_type": "code",
   "execution_count": 10,
   "id": "6ba9e0d5",
   "metadata": {},
   "outputs": [
    {
     "name": "stdout",
     "output_type": "stream",
     "text": [
      "10000/10000 [==============================] - 2s 219us/step\n",
      "測試資料集的準確度=0.66\n"
     ]
    }
   ],
   "source": [
    "loss,accuracy=model.evaluate(X_test,Y_test)\n",
    "print(\"測試資料集的準確度={:.2f}\".format(accuracy))"
   ]
  },
  {
   "cell_type": "code",
   "execution_count": 18,
   "id": "bad5615d",
   "metadata": {},
   "outputs": [
    {
     "name": "stdout",
     "output_type": "stream",
     "text": [
      "Predicting...\n",
      "10000\n",
      "10000\n"
     ]
    }
   ],
   "source": [
    "# 測試資料集的分類和機率的預測值\n",
    "print(\"Predicting...\")\n",
    "Y_pred=model.predict_classes(X_test) # 分類\n",
    "Y_probs=model.predict_proba(X_test) # 機率\n",
    "print(len(Y_pred))\n",
    "print(len(Y_probs))"
   ]
  },
  {
   "cell_type": "code",
   "execution_count": 20,
   "id": "505c29f3",
   "metadata": {},
   "outputs": [
    {
     "name": "stdout",
     "output_type": "stream",
     "text": [
      "100000\n"
     ]
    }
   ],
   "source": [
    "print(len(Y_test))"
   ]
  },
  {
   "cell_type": "code",
   "execution_count": 29,
   "id": "842c2e4e",
   "metadata": {},
   "outputs": [
    {
     "name": "stdout",
     "output_type": "stream",
     "text": [
      "    label  predict\n",
      "6       1        3\n",
      "15      8        6\n",
      "17      7        3\n",
      "21      0        2\n",
      "22      4        0\n"
     ]
    }
   ],
   "source": [
    "# 建立分類錯誤的 DataFrame 物件\n",
    "Y_test=Y_test.flatten()\n",
    "df=pd.DataFrame({\"label\":Y_test,\"predict\":Y_pred})\n",
    "df=df[Y_test!=Y_pred] # 篩選出分類錯誤的資料\n",
    "print(df.head())"
   ]
  },
  {
   "cell_type": "code",
   "execution_count": 30,
   "id": "88762497",
   "metadata": {},
   "outputs": [
    {
     "name": "stdout",
     "output_type": "stream",
     "text": [
      "Tndex: 4476\n"
     ]
    }
   ],
   "source": [
    "# 隨機選1個錯誤分類的數字索引\n",
    "i=df.sample(n=1).index.values.astype(int)[0]\n",
    "print(\"Tndex:\",i)\n",
    "img=X_test[i]"
   ]
  },
  {
   "cell_type": "code",
   "execution_count": 25,
   "id": "12952c57",
   "metadata": {},
   "outputs": [
    {
     "data": {
      "text/plain": [
       "(-0.5, 31.5, 31.5, -0.5)"
      ]
     },
     "execution_count": 25,
     "metadata": {},
     "output_type": "execute_result"
    },
    {
     "data": {
      "image/png": "[encoded data removed]",
      "text/plain": [
       "<Figure size 432x288 with 1 Axes>"
      ]
     },
     "metadata": {
      "needs_background": "light"
     },
     "output_type": "display_data"
    }
   ],
   "source": [
    "import matplotlib.pyplot as plt\n",
    "%matplotlib inline\n",
    "(_,_),(_,Y_test)=cifar10.load_data()\n",
    "# 繪出圖表的預測結果\n",
    "plt.figure()\n",
    "plt.subplot(1,2,1)\n",
    "plt.title(\"Example of Image:\"+str(Y_test[0]))\n",
    "plt.imshow(X_train[0],cmap=\"binary\")\n",
    "plt.axis(\"off\")"
   ]
  },
  {
   "cell_type": "code",
   "execution_count": 34,
   "id": "f2b56d1e",
   "metadata": {},
   "outputs": [
    {
     "name": "stdout",
     "output_type": "stream",
     "text": [
      "Predicting...\n"
     ]
    },
    {
     "data": {
      "image/png": "[encoded data removed]",
      "text/plain": [
       "<Figure size 432x288 with 1 Axes>"
      ]
     },
     "metadata": {
      "needs_background": "light"
     },
     "output_type": "display_data"
    }
   ],
   "source": [
    "# 預測結果的機率\n",
    "print(\"Predicting...\")\n",
    "probs=model.predict_proba(X_test)\n",
    "plt.subplot(1,2,2)\n",
    "plt.title(\"Probabilities for Each Image Class:\")\n",
    "plt.bar(np.arange(10),probs[0].reshape(10),align=\"center\")\n",
    "plt.xticks(np.arange(10),np.arange(10).astype(str))\n",
    "plt.show()"
   ]
  }
 ],
 "metadata": {
  "kernelspec": {
   "display_name": "Python 3 (ipykernel)",
   "language": "python",
   "name": "python3"
  },
  "language_info": {
   "codemirror_mode": {
    "name": "ipython",
    "version": 3
   },
   "file_extension": ".py",
   "mimetype": "text/x-python",
   "name": "python",
   "nbconvert_exporter": "python",
   "pygments_lexer": "ipython3",
   "version": "3.7.13"
  }
 },
 "nbformat": 4,
 "nbformat_minor": 5
}
